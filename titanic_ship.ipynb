{
 "cells": [
  {
   "cell_type": "code",
   "execution_count": null,
   "id": "f17bbd2f-e569-4a3f-a334-9e5d6ed4aaa1",
   "metadata": {},
   "outputs": [],
   "source": [
    "pip install pandas"
   ]
  },
  {
   "cell_type": "code",
   "execution_count": null,
   "id": "f120ab29-7ba1-44dc-b97f-284a8e84030e",
   "metadata": {},
   "outputs": [],
   "source": [
    "import pandas as pd"
   ]
  },
  {
   "cell_type": "code",
   "execution_count": null,
   "id": "68b22dd2-91ec-4af1-a1b2-e7d0cbd1b252",
   "metadata": {},
   "outputs": [],
   "source": [
    "df = pd.read_csv(\"https://raw.githubusercontent.com/datasciencedojo/datasets/master/titanic.csv\")"
   ]
  },
  {
   "cell_type": "code",
   "execution_count": null,
   "id": "8c98887e-8d18-418b-95d5-38ef6f228de5",
   "metadata": {},
   "outputs": [],
   "source": [
    "df.head(3)"
   ]
  },
  {
   "cell_type": "code",
   "execution_count": null,
   "id": "40148278-b975-46d6-93ee-eee0bdd42590",
   "metadata": {},
   "outputs": [],
   "source": [
    "df.dtypes # various data types present inside this data-set"
   ]
  },
  {
   "cell_type": "code",
   "execution_count": null,
   "id": "618e17cd-e7fb-4e26-9a1e-cceaca8ba707",
   "metadata": {},
   "outputs": [],
   "source": [
    "list(df.columns) # column name for inside this data-set"
   ]
  },
  {
   "cell_type": "code",
   "execution_count": null,
   "id": "1ebca470-cf12-4d0a-a437-ec806b5deedf",
   "metadata": {},
   "outputs": [],
   "source": [
    "df.describe() #basic of ststistics for  this data set"
   ]
  },
  {
   "cell_type": "code",
   "execution_count": null,
   "id": "10c59f4c-1fea-4ad3-8569-21a33891dad3",
   "metadata": {},
   "outputs": [],
   "source": [
    "df.dtypes == \"object\""
   ]
  },
  {
   "cell_type": "code",
   "execution_count": null,
   "id": "e42384d7-b547-4888-acec-ca0b598152c7",
   "metadata": {},
   "outputs": [],
   "source": [
    "df.dtypes[df.dtypes == \"object\"].index"
   ]
  },
  {
   "cell_type": "code",
   "execution_count": null,
   "id": "1601fd5e-6a35-4947-a2cf-134a113e9836",
   "metadata": {},
   "outputs": [],
   "source": [
    "df[df.dtypes[df.dtypes == \"object\"].index]"
   ]
  },
  {
   "cell_type": "code",
   "execution_count": null,
   "id": "ea1ccf6f-7611-43e1-a7a2-911750925e62",
   "metadata": {},
   "outputs": [],
   "source": [
    "df[df.dtypes[df.dtypes == \"object\"].index].describe() # basic description of this data-set for only object data-types"
   ]
  },
  {
   "cell_type": "code",
   "execution_count": null,
   "id": "ff204db3-65d2-4b18-8730-a53b5419da62",
   "metadata": {},
   "outputs": [],
   "source": [
    "df[df.dtypes[df.dtypes == \"float\"].index]"
   ]
  },
  {
   "cell_type": "code",
   "execution_count": null,
   "id": "d60df966-54c7-499b-a0be-4a51891e0de1",
   "metadata": {},
   "outputs": [],
   "source": [
    "df[df.dtypes[df.dtypes == \"int\"].index]"
   ]
  },
  {
   "cell_type": "code",
   "execution_count": null,
   "id": "e4733be1-8ea4-4b8a-98fc-a1fd2e62cdd8",
   "metadata": {},
   "outputs": [],
   "source": [
    "df.columns"
   ]
  },
  {
   "cell_type": "code",
   "execution_count": null,
   "id": "7fbc29c8-84ee-4afc-8099-0e3262914610",
   "metadata": {},
   "outputs": [],
   "source": [
    "df[['Ticket','Cabin']][4:11:2]"
   ]
  },
  {
   "cell_type": "code",
   "execution_count": null,
   "id": "525d91ea-fbf4-4b4c-a9f4-f903aebbb4b2",
   "metadata": {},
   "outputs": [],
   "source": [
    "df"
   ]
  },
  {
   "cell_type": "code",
   "execution_count": null,
   "id": "3e423527-57c8-4cee-ae13-f73241cd3cee",
   "metadata": {},
   "outputs": [],
   "source": [
    "df['new_col'] = 0"
   ]
  },
  {
   "cell_type": "code",
   "execution_count": null,
   "id": "f3fc332a-cdad-48db-871e-8699cdb07ed3",
   "metadata": {},
   "outputs": [],
   "source": [
    "df"
   ]
  },
  {
   "cell_type": "code",
   "execution_count": null,
   "id": "35123286-5e68-4298-b93a-89ce20dc8b5f",
   "metadata": {},
   "outputs": [],
   "source": [
    "df['new_col_1'] = df['PassengerId'] + df['Pclass']"
   ]
  },
  {
   "cell_type": "code",
   "execution_count": null,
   "id": "46c2103b-3903-43ca-9f4d-70844c87f10b",
   "metadata": {},
   "outputs": [],
   "source": [
    "df"
   ]
  },
  {
   "cell_type": "code",
   "execution_count": null,
   "id": "186aecf7-aa43-4d14-9a29-2201f551c612",
   "metadata": {},
   "outputs": [],
   "source": [
    "df.head()"
   ]
  },
  {
   "cell_type": "code",
   "execution_count": null,
   "id": "d95d4fcd-2c3c-42ae-8213-f1569f1e13a0",
   "metadata": {},
   "outputs": [],
   "source": [
    "df[df['Pclass'] == 3]"
   ]
  },
  {
   "cell_type": "code",
   "execution_count": null,
   "id": "aa4b0473-ed1e-4512-93cb-2313963da16a",
   "metadata": {},
   "outputs": [],
   "source": [
    "pd.Categorical(df['Survived'])"
   ]
  },
  {
   "cell_type": "code",
   "execution_count": null,
   "id": "7d2d9284-ed8a-4f01-8b03-2ea5d833fef2",
   "metadata": {},
   "outputs": [],
   "source": [
    "df['Cabin'].unique()"
   ]
  },
  {
   "cell_type": "code",
   "execution_count": null,
   "id": "78266492-6d6b-48de-8097-6fe8440ab54e",
   "metadata": {},
   "outputs": [],
   "source": [
    "df.head()"
   ]
  },
  {
   "cell_type": "code",
   "execution_count": null,
   "id": "76cfae3c-3fdb-4bd7-99aa-1f4a6fea0fd5",
   "metadata": {},
   "outputs": [],
   "source": [
    "len(df[df['Age'] > 18])"
   ]
  },
  {
   "cell_type": "code",
   "execution_count": null,
   "id": "fccb3dda-7a67-4464-b1e5-8d3bfb8164c9",
   "metadata": {},
   "outputs": [],
   "source": [
    "df[df['Fare'] > 32.204208]"
   ]
  },
  {
   "cell_type": "code",
   "execution_count": null,
   "id": "f4227e33-85eb-4832-8ff8-9e476c1263d7",
   "metadata": {},
   "outputs": [],
   "source": [
    "df[df['Fare'] == 0]"
   ]
  },
  {
   "cell_type": "markdown",
   "id": "35a7ca01-b2ad-40b0-9135-f46cb4c94736",
   "metadata": {},
   "source": [
    "conclusion:- there are total 891 passenger but male only 577 who to travel for titanic ship"
   ]
  },
  {
   "cell_type": "code",
   "execution_count": null,
   "id": "c5c8d141-139a-441a-832f-841f4752e9e0",
   "metadata": {},
   "outputs": [],
   "source": [
    "df[df['Sex'] == 'male']"
   ]
  },
  {
   "cell_type": "markdown",
   "id": "45622ce2-7d05-4fdb-83dc-e3b440005a01",
   "metadata": {},
   "source": [
    "conclusion:- there are total 891 passenger but female only 314 who to travel for titanic ship"
   ]
  },
  {
   "cell_type": "code",
   "execution_count": null,
   "id": "2dd59ce3-4727-4df3-81be-02935800919c",
   "metadata": {},
   "outputs": [],
   "source": [
    "df[df['Sex'] == 'female']"
   ]
  },
  {
   "cell_type": "markdown",
   "id": "c2b8a464-1890-405f-a888-b7bb8a2dc0e0",
   "metadata": {},
   "source": [
    "conclusion:-  there are only 216 people who are travelling in 1st passenger class for titanic ship "
   ]
  },
  {
   "cell_type": "code",
   "execution_count": null,
   "id": "6a4b3804-a9a6-4c2b-b335-00f97fc1ff86",
   "metadata": {},
   "outputs": [],
   "source": [
    "df[df[\"Pclass\"] == 1]"
   ]
  },
  {
   "cell_type": "markdown",
   "id": "6d7ea56c-7e39-4dad-bcc6-062ef4979d73",
   "metadata": {},
   "source": [
    "conclusion:- There are total 891 people but survived only 342 people to this incident"
   ]
  },
  {
   "cell_type": "code",
   "execution_count": null,
   "id": "71f7610e-178d-4004-a4e9-c211e14b0fbb",
   "metadata": {},
   "outputs": [],
   "source": [
    "df[df[\"Survived\"] == 1]"
   ]
  },
  {
   "cell_type": "markdown",
   "id": "332dda74-5598-4bd1-bee1-fb0b1ce63185",
   "metadata": {},
   "source": [
    "conclusion:- There are total 891 people but 577 who they are not survived to this incident"
   ]
  },
  {
   "cell_type": "code",
   "execution_count": null,
   "id": "5ef5482e-9fae-4b31-9efa-4dd6ca8db30f",
   "metadata": {},
   "outputs": [],
   "source": [
    "df[df[\"Survived\"] == 0]"
   ]
  },
  {
   "cell_type": "markdown",
   "id": "15edf461-eb7e-4a86-ab6b-e3688d8c3296",
   "metadata": {},
   "source": [
    " conclusion :- list of 109 male who survived for this incident"
   ]
  },
  {
   "cell_type": "code",
   "execution_count": null,
   "id": "36ca51ba-6f75-43c8-b683-5026fdf987c9",
   "metadata": {},
   "outputs": [],
   "source": [
    "df[(df[\"Survived\"] == 1) & (df[\"Sex\"] == \"male\")]"
   ]
  },
  {
   "cell_type": "markdown",
   "id": "41a4ccca-007c-4bd2-8640-58e079205f06",
   "metadata": {},
   "source": [
    "conclusion :-  list of 233 female who survived for this incident"
   ]
  },
  {
   "cell_type": "code",
   "execution_count": null,
   "id": "ce4838fe-dc96-4757-b886-c6d1fc0bea8a",
   "metadata": {},
   "outputs": [],
   "source": [
    "df[(df[\"Survived\"] == 1) & (df[\"Sex\"] == \"female\")][\"Name\"]"
   ]
  },
  {
   "cell_type": "markdown",
   "id": "d98d7b73-51d3-47af-b5db-723ca42f7a56",
   "metadata": {},
   "source": [
    "conclusion:- There are total 342 person who survived for this incident"
   ]
  },
  {
   "cell_type": "code",
   "execution_count": null,
   "id": "d64cd043-6ed7-429f-9aa8-4aef6f145c02",
   "metadata": {},
   "outputs": [],
   "source": [
    "df[(df[\"Survived\"] == 1) & (df[\"Sex\"])]"
   ]
  },
  {
   "cell_type": "markdown",
   "id": "bce69c2c-365e-4f94-9b82-d49bee25de19",
   "metadata": {},
   "source": [
    "conclusion :- only 2 male pay more then the average fare for titanic ship"
   ]
  },
  {
   "cell_type": "code",
   "execution_count": null,
   "id": "5d4c3f49-fe69-4722-aae4-558dac892aef",
   "metadata": {},
   "outputs": [],
   "source": [
    "df[(df[\"Fare\"] == max(df[\"Fare\"])) & (df[\"Sex\"] == \"male\")][\"Name\"]"
   ]
  },
  {
   "cell_type": "markdown",
   "id": "c0df6400-92c3-471b-a8e4-880401d866b1",
   "metadata": {},
   "source": [
    "conclusion :- only 1 female pay more then the average fare for titanic ship"
   ]
  },
  {
   "cell_type": "code",
   "execution_count": null,
   "id": "acbad05c-14e3-41fa-968c-f7f1f13cc72a",
   "metadata": {},
   "outputs": [],
   "source": [
    "df[(df[\"Fare\"] == max(df[\"Fare\"])) & (df[\"Sex\"] == \"female\")][\"Name\"]"
   ]
  },
  {
   "cell_type": "markdown",
   "id": "003e4b76-047e-4c64-a4c5-17635e98f574",
   "metadata": {},
   "source": [
    "conclusion :-there are 468 male not survived for this incident "
   ]
  },
  {
   "cell_type": "code",
   "execution_count": null,
   "id": "b369ea7e-a52a-4787-a1ff-3a6369519cf6",
   "metadata": {},
   "outputs": [],
   "source": [
    "df[(df[\"Survived\"] == 0) & (df[\"Name\"]) & (df[\"Sex\"] == \"male\")][\"Name\"]"
   ]
  },
  {
   "cell_type": "markdown",
   "id": "c71821c3-9aec-4fde-add5-6cf619a96cec",
   "metadata": {},
   "source": [
    "conclusion:- There are 81 female not survived for this incident"
   ]
  },
  {
   "cell_type": "code",
   "execution_count": null,
   "id": "4d0582d9-cdf6-42fb-90ad-c0ccdd3db2ae",
   "metadata": {},
   "outputs": [],
   "source": [
    "df[(df[\"Survived\"] == 0) & (df[\"Name\"]) & (df[\"Sex\"] == \"female\")]"
   ]
  },
  {
   "cell_type": "code",
   "execution_count": null,
   "id": "cada8d42-4fa5-41af-a9e8-61854b615252",
   "metadata": {},
   "outputs": [],
   "source": []
  }
 ],
 "metadata": {
  "kernelspec": {
   "display_name": "Python 3 (ipykernel)",
   "language": "python",
   "name": "python3"
  },
  "language_info": {
   "codemirror_mode": {
    "name": "ipython",
    "version": 3
   },
   "file_extension": ".py",
   "mimetype": "text/x-python",
   "name": "python",
   "nbconvert_exporter": "python",
   "pygments_lexer": "ipython3",
   "version": "3.10.8"
  }
 },
 "nbformat": 4,
 "nbformat_minor": 5
}
